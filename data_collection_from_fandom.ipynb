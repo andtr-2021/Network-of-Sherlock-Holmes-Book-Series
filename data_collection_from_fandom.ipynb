{
 "cells": [
  {
   "cell_type": "code",
   "execution_count": 3,
   "id": "d6615563-ee54-4640-8021-21632869f6ae",
   "metadata": {
    "tags": []
   },
   "outputs": [],
   "source": [
    "import pandas as pd\n",
    "from selenium import webdriver\n",
    "import time \n",
    "from webdriver_manager.chrome import ChromeDriverManager \n",
    "import re \n"
   ]
  },
  {
   "cell_type": "markdown",
   "id": "b9a2dffe-1da5-4920-ac1f-d8e1b92857ca",
   "metadata": {},
   "source": [
    "## Data Collection "
   ]
  },
  {
   "cell_type": "markdown",
   "id": "06a3a98a-a9c6-4a04-a25d-f6386963b1c9",
   "metadata": {},
   "source": [
    "#### Create Driver "
   ]
  },
  {
   "cell_type": "code",
   "execution_count": 4,
   "id": "c5649652-8f24-44d6-a5af-1e9ddc6ee1e7",
   "metadata": {
    "tags": []
   },
   "outputs": [
    {
     "name": "stderr",
     "output_type": "stream",
     "text": [
      "/var/folders/g2/tz8mrjyx0bd21mkwkqx_jn840000gn/T/ipykernel_3672/1503906442.py:1: DeprecationWarning: executable_path has been deprecated, please pass in a Service object\n",
      "  driver = webdriver.Chrome(ChromeDriverManager().install())\n"
     ]
    }
   ],
   "source": [
    "driver = webdriver.Chrome(ChromeDriverManager().install())"
   ]
  },
  {
   "cell_type": "code",
   "execution_count": 5,
   "id": "38ba8c9a-26a6-4f5d-a54a-68e28a96b2d5",
   "metadata": {
    "tags": []
   },
   "outputs": [],
   "source": [
    "page_url = 'https://bakerstreet.fandom.com/wiki/Category:Characters:_Canon'"
   ]
  },
  {
   "cell_type": "code",
   "execution_count": 6,
   "id": "ebd7ec75-8843-4ae3-b988-de51020a28d4",
   "metadata": {
    "tags": []
   },
   "outputs": [],
   "source": [
    "driver.get(page_url)"
   ]
  },
  {
   "cell_type": "markdown",
   "id": "31c21538-9d50-4a5c-8417-e0824898549f",
   "metadata": {},
   "source": [
    "#### Find Books "
   ]
  },
  {
   "cell_type": "code",
   "execution_count": 7,
   "id": "f9ea6a2b-475d-4110-9620-7bb88252746e",
   "metadata": {
    "tags": []
   },
   "outputs": [],
   "source": [
    "from selenium.webdriver.common.by import By\n",
    "\n",
    "book_categories = driver.find_elements(By.CLASS_NAME, \"category-page__member-link\")"
   ]
  },
  {
   "cell_type": "code",
   "execution_count": 8,
   "id": "874ed6f0-886b-47bd-94c0-f99aa3df6ae7",
   "metadata": {
    "tags": []
   },
   "outputs": [
    {
     "data": {
      "text/plain": [
       "24"
      ]
     },
     "execution_count": 8,
     "metadata": {},
     "output_type": "execute_result"
    }
   ],
   "source": [
    "len(book_categories)"
   ]
  },
  {
   "cell_type": "code",
   "execution_count": 9,
   "id": "4da839ab-1254-47e0-8a3b-f82dbb819487",
   "metadata": {
    "tags": []
   },
   "outputs": [
    {
     "name": "stdout",
     "output_type": "stream",
     "text": [
      "Category:Characters: A Study in Scarlet\n",
      "Irene Adler\n",
      "Category:Characters: The Adventures of Sherlock Holmes\n",
      "Baker Street Irregulars\n",
      "Inspector Bradstreet\n",
      "Category:Characters: The Case-Book of Sherlock Holmes\n",
      "Category:Characters: The Sign of the Four\n",
      "Category:Characters: The Valley of Fear\n",
      "Charles I of England\n",
      "Tobias Gregson\n",
      "Category:Characters: His Last Bow\n",
      "Mycroft Holmes\n",
      "Sherlock Holmes\n",
      "Stanley Hopkins\n",
      "Category:Characters: The Hound of the Baskervilles\n",
      "Mrs Hudson\n",
      "Inspector Lestrade\n",
      "Alec MacDonald\n",
      "Category:Characters: The Memoirs of Sherlock Holmes\n",
      "Category:Characters: The Return of Sherlock Holmes\n",
      "Queen Victoria\n",
      "Fritz von Waldbaum\n",
      "John Watson\n",
      "Wiggins\n"
     ]
    }
   ],
   "source": [
    "for category in book_categories:\n",
    "    print(category.text)"
   ]
  },
  {
   "cell_type": "code",
   "execution_count": 10,
   "id": "af7e0610-7678-4426-b1db-bff2faa767dc",
   "metadata": {},
   "outputs": [
    {
     "name": "stdout",
     "output_type": "stream",
     "text": [
      "Category:Characters: A Study in Scarlet\n",
      "Category:Characters: The Adventures of Sherlock Holmes\n",
      "Category:Characters: The Case-Book of Sherlock Holmes\n",
      "Category:Characters: The Sign of the Four\n",
      "Category:Characters: The Valley of Fear\n",
      "Category:Characters: His Last Bow\n",
      "Category:Characters: The Hound of the Baskervilles\n",
      "Category:Characters: The Memoirs of Sherlock Holmes\n",
      "Category:Characters: The Return of Sherlock Holmes\n"
     ]
    }
   ],
   "source": [
    "# write a loop to extract the items that are not category \n",
    "\n",
    "book_categories_u = []\n",
    "\n",
    "for category in book_categories:\n",
    "    cate_name = category.text\n",
    "    x = re.search(\"Category\", cate_name)\n",
    "    if x:\n",
    "        print(category.text)\n",
    "        book_categories_u.append(category)"
   ]
  },
  {
   "cell_type": "code",
   "execution_count": 11,
   "id": "e05c4ab0-0802-48ec-b258-dfba75b2eb48",
   "metadata": {
    "tags": []
   },
   "outputs": [
    {
     "name": "stdout",
     "output_type": "stream",
     "text": [
      "Category:Characters: A Study in Scarlet\n",
      "Category:Characters: The Adventures of Sherlock Holmes\n",
      "Category:Characters: The Case-Book of Sherlock Holmes\n",
      "Category:Characters: The Sign of the Four\n",
      "Category:Characters: The Valley of Fear\n",
      "Category:Characters: His Last Bow\n",
      "Category:Characters: The Hound of the Baskervilles\n",
      "Category:Characters: The Memoirs of Sherlock Holmes\n",
      "Category:Characters: The Return of Sherlock Holmes\n"
     ]
    }
   ],
   "source": [
    "for cate in book_categories_u:\n",
    "    print(cate.text)"
   ]
  },
  {
   "cell_type": "code",
   "execution_count": 14,
   "id": "207121ee-99c5-4807-a82f-cbf0cd3e951a",
   "metadata": {
    "tags": []
   },
   "outputs": [],
   "source": [
    "books = []\n",
    "\n",
    "for category in book_categories_u:\n",
    "    book_url = category.get_attribute('href')\n",
    "    book_name = category.text \n",
    "    books.append({'book_name' : book_name, 'url': book_url})"
   ]
  },
  {
   "cell_type": "code",
   "execution_count": 15,
   "id": "a8a20043-f5e3-4b94-bba3-dcc8a2bfa893",
   "metadata": {
    "tags": []
   },
   "outputs": [
    {
     "data": {
      "text/plain": [
       "[{'book_name': 'Category:Characters: A Study in Scarlet',\n",
       "  'url': 'https://bakerstreet.fandom.com/wiki/Category:Characters:_A_Study_in_Scarlet'},\n",
       " {'book_name': 'Category:Characters: The Adventures of Sherlock Holmes',\n",
       "  'url': 'https://bakerstreet.fandom.com/wiki/Category:Characters:_The_Adventures_of_Sherlock_Holmes'},\n",
       " {'book_name': 'Category:Characters: The Case-Book of Sherlock Holmes',\n",
       "  'url': 'https://bakerstreet.fandom.com/wiki/Category:Characters:_The_Case-Book_of_Sherlock_Holmes'},\n",
       " {'book_name': 'Category:Characters: The Sign of the Four',\n",
       "  'url': 'https://bakerstreet.fandom.com/wiki/Category:Characters:_The_Sign_of_the_Four'},\n",
       " {'book_name': 'Category:Characters: The Valley of Fear',\n",
       "  'url': 'https://bakerstreet.fandom.com/wiki/Category:Characters:_The_Valley_of_Fear'},\n",
       " {'book_name': 'Category:Characters: His Last Bow',\n",
       "  'url': 'https://bakerstreet.fandom.com/wiki/Category:Characters:_His_Last_Bow'},\n",
       " {'book_name': 'Category:Characters: The Hound of the Baskervilles',\n",
       "  'url': 'https://bakerstreet.fandom.com/wiki/Category:Characters:_The_Hound_of_the_Baskervilles'},\n",
       " {'book_name': 'Category:Characters: The Memoirs of Sherlock Holmes',\n",
       "  'url': 'https://bakerstreet.fandom.com/wiki/Category:Characters:_The_Memoirs_of_Sherlock_Holmes'},\n",
       " {'book_name': 'Category:Characters: The Return of Sherlock Holmes',\n",
       "  'url': 'https://bakerstreet.fandom.com/wiki/Category:Characters:_The_Return_of_Sherlock_Holmes'}]"
      ]
     },
     "execution_count": 15,
     "metadata": {},
     "output_type": "execute_result"
    }
   ],
   "source": [
    "books"
   ]
  },
  {
   "cell_type": "code",
   "execution_count": 16,
   "id": "670c87bf-df93-4d47-94f4-c0d624cbf949",
   "metadata": {
    "tags": []
   },
   "outputs": [],
   "source": [
    "character_list = []\n",
    "for book in books:\n",
    "    # go to the book page \n",
    "    driver.get(book['url'])\n",
    "    \n",
    "    character_elems = driver.find_elements(By.CLASS_NAME, \"category-page__member-link\")\n",
    "    \n",
    "    for elems in character_elems:\n",
    "        character_list.append({'book_name' : book['book_name'], 'character_name': elems.text})\n",
    "    \n",
    "    "
   ]
  },
  {
   "cell_type": "code",
   "execution_count": 20,
   "id": "ee89e5ea-952d-4fa9-a9d8-b5ac3ed9746c",
   "metadata": {
    "tags": []
   },
   "outputs": [
    {
     "data": {
      "text/html": [
       "<div>\n",
       "<style scoped>\n",
       "    .dataframe tbody tr th:only-of-type {\n",
       "        vertical-align: middle;\n",
       "    }\n",
       "\n",
       "    .dataframe tbody tr th {\n",
       "        vertical-align: top;\n",
       "    }\n",
       "\n",
       "    .dataframe thead th {\n",
       "        text-align: right;\n",
       "    }\n",
       "</style>\n",
       "<table border=\"1\" class=\"dataframe\">\n",
       "  <thead>\n",
       "    <tr style=\"text-align: right;\">\n",
       "      <th></th>\n",
       "      <th>book_name</th>\n",
       "      <th>character_name</th>\n",
       "    </tr>\n",
       "  </thead>\n",
       "  <tbody>\n",
       "    <tr>\n",
       "      <th>0</th>\n",
       "      <td>Category:Characters: A Study in Scarlet</td>\n",
       "      <td>Enoch Drebber</td>\n",
       "    </tr>\n",
       "    <tr>\n",
       "      <th>1</th>\n",
       "      <td>Category:Characters: A Study in Scarlet</td>\n",
       "      <td>John Ferrier</td>\n",
       "    </tr>\n",
       "    <tr>\n",
       "      <th>2</th>\n",
       "      <td>Category:Characters: A Study in Scarlet</td>\n",
       "      <td>Lucy Ferrier</td>\n",
       "    </tr>\n",
       "    <tr>\n",
       "      <th>3</th>\n",
       "      <td>Category:Characters: A Study in Scarlet</td>\n",
       "      <td>Jefferson Hope</td>\n",
       "    </tr>\n",
       "    <tr>\n",
       "      <th>4</th>\n",
       "      <td>Category:Characters: A Study in Scarlet</td>\n",
       "      <td>Edgar Allan Poe</td>\n",
       "    </tr>\n",
       "    <tr>\n",
       "      <th>...</th>\n",
       "      <td>...</td>\n",
       "      <td>...</td>\n",
       "    </tr>\n",
       "    <tr>\n",
       "      <th>173</th>\n",
       "      <td>Category:Characters: The Return of Sherlock Ho...</td>\n",
       "      <td>The Pope</td>\n",
       "    </tr>\n",
       "    <tr>\n",
       "      <th>174</th>\n",
       "      <td>Category:Characters: The Return of Sherlock Ho...</td>\n",
       "      <td>Lord Saltire</td>\n",
       "    </tr>\n",
       "    <tr>\n",
       "      <th>175</th>\n",
       "      <td>Category:Characters: The Return of Sherlock Ho...</td>\n",
       "      <td>Abe Slaney</td>\n",
       "    </tr>\n",
       "    <tr>\n",
       "      <th>176</th>\n",
       "      <td>Category:Characters: The Return of Sherlock Ho...</td>\n",
       "      <td>James Walter</td>\n",
       "    </tr>\n",
       "    <tr>\n",
       "      <th>177</th>\n",
       "      <td>Category:Characters: The Return of Sherlock Ho...</td>\n",
       "      <td>Williamson</td>\n",
       "    </tr>\n",
       "  </tbody>\n",
       "</table>\n",
       "<p>178 rows × 2 columns</p>\n",
       "</div>"
      ],
      "text/plain": [
       "                                             book_name   character_name\n",
       "0              Category:Characters: A Study in Scarlet    Enoch Drebber\n",
       "1              Category:Characters: A Study in Scarlet     John Ferrier\n",
       "2              Category:Characters: A Study in Scarlet     Lucy Ferrier\n",
       "3              Category:Characters: A Study in Scarlet   Jefferson Hope\n",
       "4              Category:Characters: A Study in Scarlet  Edgar Allan Poe\n",
       "..                                                 ...              ...\n",
       "173  Category:Characters: The Return of Sherlock Ho...         The Pope\n",
       "174  Category:Characters: The Return of Sherlock Ho...     Lord Saltire\n",
       "175  Category:Characters: The Return of Sherlock Ho...       Abe Slaney\n",
       "176  Category:Characters: The Return of Sherlock Ho...     James Walter\n",
       "177  Category:Characters: The Return of Sherlock Ho...       Williamson\n",
       "\n",
       "[178 rows x 2 columns]"
      ]
     },
     "execution_count": 20,
     "metadata": {},
     "output_type": "execute_result"
    }
   ],
   "source": [
    "character_df = pd.DataFrame( character_list)\n",
    "character_df"
   ]
  },
  {
   "cell_type": "code",
   "execution_count": 26,
   "id": "2176d4b7-cea8-4f4d-8b9c-feb8f1fa0c52",
   "metadata": {
    "tags": []
   },
   "outputs": [
    {
     "data": {
      "image/png": "[encoded data removed]",
      "text/plain": [
       "<Figure size 640x480 with 1 Axes>"
      ]
     },
     "metadata": {},
     "output_type": "display_data"
    }
   ],
   "source": [
    "import matplotlib.pyplot as plt\n",
    "\n",
    "# which book have the most character\n",
    "character_df['book_name'].value_counts().plot(kind=\"bar\")\n",
    "plt.show()"
   ]
  },
  {
   "cell_type": "code",
   "execution_count": null,
   "id": "fcc5b187-8bd9-4f8e-8441-c0e4ddb5ba57",
   "metadata": {},
   "outputs": [],
   "source": []
  },
  {
   "cell_type": "code",
   "execution_count": null,
   "id": "255a9f71-7032-46c2-9860-a094230c5360",
   "metadata": {},
   "outputs": [],
   "source": []
  }
 ],
 "metadata": {
  "kernelspec": {
   "display_name": "Python 3 (ipykernel)",
   "language": "python",
   "name": "python3"
  },
  "language_info": {
   "codemirror_mode": {
    "name": "ipython",
    "version": 3
   },
   "file_extension": ".py",
   "mimetype": "text/x-python",
   "name": "python",
   "nbconvert_exporter": "python",
   "pygments_lexer": "ipython3",
   "version": "3.10.8"
  }
 },
 "nbformat": 4,
 "nbformat_minor": 5
}
