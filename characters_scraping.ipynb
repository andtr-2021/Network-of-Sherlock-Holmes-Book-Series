{
 "cells": [
  {
   "cell_type": "code",
   "execution_count": 23,
   "id": "d6615563-ee54-4640-8021-21632869f6ae",
   "metadata": {
    "tags": []
   },
   "outputs": [],
   "source": [
    "import pandas as pd\n",
    "from selenium import webdriver\n",
    "import time \n",
    "from webdriver_manager.chrome import ChromeDriverManager \n",
    "import re \n"
   ]
  },
  {
   "cell_type": "markdown",
   "id": "b9a2dffe-1da5-4920-ac1f-d8e1b92857ca",
   "metadata": {},
   "source": [
    "## Data Collection "
   ]
  },
  {
   "cell_type": "markdown",
   "id": "06a3a98a-a9c6-4a04-a25d-f6386963b1c9",
   "metadata": {},
   "source": [
    "#### Create Driver "
   ]
  },
  {
   "cell_type": "code",
   "execution_count": 24,
   "id": "c5649652-8f24-44d6-a5af-1e9ddc6ee1e7",
   "metadata": {
    "tags": []
   },
   "outputs": [
    {
     "name": "stderr",
     "output_type": "stream",
     "text": [
      "/var/folders/g2/tz8mrjyx0bd21mkwkqx_jn840000gn/T/ipykernel_23211/1503906442.py:1: DeprecationWarning: executable_path has been deprecated, please pass in a Service object\n",
      "  driver = webdriver.Chrome(ChromeDriverManager().install())\n"
     ]
    }
   ],
   "source": [
    "driver = webdriver.Chrome(ChromeDriverManager().install())"
   ]
  },
  {
   "cell_type": "code",
   "execution_count": 25,
   "id": "38ba8c9a-26a6-4f5d-a54a-68e28a96b2d5",
   "metadata": {
    "tags": []
   },
   "outputs": [],
   "source": [
    "page_url = 'https://bakerstreet.fandom.com/wiki/Category:Characters:_Canon'"
   ]
  },
  {
   "cell_type": "code",
   "execution_count": 26,
   "id": "ebd7ec75-8843-4ae3-b988-de51020a28d4",
   "metadata": {
    "tags": []
   },
   "outputs": [],
   "source": [
    "driver.get(page_url)"
   ]
  },
  {
   "cell_type": "markdown",
   "id": "31c21538-9d50-4a5c-8417-e0824898549f",
   "metadata": {},
   "source": [
    "#### Find Books "
   ]
  },
  {
   "cell_type": "code",
   "execution_count": 27,
   "id": "f9ea6a2b-475d-4110-9620-7bb88252746e",
   "metadata": {
    "tags": []
   },
   "outputs": [],
   "source": [
    "from selenium.webdriver.common.by import By\n",
    "\n",
    "book_categories = driver.find_elements(By.CLASS_NAME, \"category-page__member-link\")"
   ]
  },
  {
   "cell_type": "code",
   "execution_count": 28,
   "id": "874ed6f0-886b-47bd-94c0-f99aa3df6ae7",
   "metadata": {
    "tags": []
   },
   "outputs": [
    {
     "data": {
      "text/plain": [
       "24"
      ]
     },
     "execution_count": 28,
     "metadata": {},
     "output_type": "execute_result"
    }
   ],
   "source": [
    "len(book_categories)"
   ]
  },
  {
   "cell_type": "code",
   "execution_count": 29,
   "id": "4da839ab-1254-47e0-8a3b-f82dbb819487",
   "metadata": {
    "tags": []
   },
   "outputs": [
    {
     "name": "stdout",
     "output_type": "stream",
     "text": [
      "Category:Characters: A Study in Scarlet\n",
      "Irene Adler\n",
      "Category:Characters: The Adventures of Sherlock Holmes\n",
      "Baker Street Irregulars\n",
      "Inspector Bradstreet\n",
      "Category:Characters: The Case-Book of Sherlock Holmes\n",
      "Category:Characters: The Sign of the Four\n",
      "Category:Characters: The Valley of Fear\n",
      "Charles I of England\n",
      "Tobias Gregson\n",
      "Category:Characters: His Last Bow\n",
      "Mycroft Holmes\n",
      "Sherlock Holmes\n",
      "Stanley Hopkins\n",
      "Category:Characters: The Hound of the Baskervilles\n",
      "Mrs Hudson\n",
      "Inspector Lestrade\n",
      "Alec MacDonald\n",
      "Category:Characters: The Memoirs of Sherlock Holmes\n",
      "Category:Characters: The Return of Sherlock Holmes\n",
      "Queen Victoria\n",
      "Fritz von Waldbaum\n",
      "John Watson\n",
      "Wiggins\n"
     ]
    }
   ],
   "source": [
    "for category in book_categories:\n",
    "    print(category.text)"
   ]
  },
  {
   "cell_type": "code",
   "execution_count": 30,
   "id": "af7e0610-7678-4426-b1db-bff2faa767dc",
   "metadata": {},
   "outputs": [
    {
     "name": "stdout",
     "output_type": "stream",
     "text": [
      "Category:Characters: A Study in Scarlet\n",
      "Category:Characters: The Adventures of Sherlock Holmes\n",
      "Category:Characters: The Case-Book of Sherlock Holmes\n",
      "Category:Characters: The Sign of the Four\n",
      "Category:Characters: The Valley of Fear\n",
      "Category:Characters: His Last Bow\n",
      "Category:Characters: The Hound of the Baskervilles\n",
      "Category:Characters: The Memoirs of Sherlock Holmes\n",
      "Category:Characters: The Return of Sherlock Holmes\n"
     ]
    }
   ],
   "source": [
    "# write a loop to extract the items that are not category \n",
    "\n",
    "book_categories_u = []\n",
    "\n",
    "for category in book_categories:\n",
    "    cate_name = category.text\n",
    "    x = re.search(\"Category\", cate_name)\n",
    "    if x:\n",
    "        print(category.text)\n",
    "        book_categories_u.append(category)"
   ]
  },
  {
   "cell_type": "code",
   "execution_count": 31,
   "id": "e05c4ab0-0802-48ec-b258-dfba75b2eb48",
   "metadata": {
    "tags": []
   },
   "outputs": [
    {
     "name": "stdout",
     "output_type": "stream",
     "text": [
      "Category:Characters: A Study in Scarlet\n",
      "Category:Characters: The Adventures of Sherlock Holmes\n",
      "Category:Characters: The Case-Book of Sherlock Holmes\n",
      "Category:Characters: The Sign of the Four\n",
      "Category:Characters: The Valley of Fear\n",
      "Category:Characters: His Last Bow\n",
      "Category:Characters: The Hound of the Baskervilles\n",
      "Category:Characters: The Memoirs of Sherlock Holmes\n",
      "Category:Characters: The Return of Sherlock Holmes\n"
     ]
    }
   ],
   "source": [
    "for cate in book_categories_u:\n",
    "    print(cate.text)"
   ]
  },
  {
   "cell_type": "code",
   "execution_count": 32,
   "id": "080d5d2d-c1ce-433a-aacb-23b60f549ff1",
   "metadata": {},
   "outputs": [
    {
     "name": "stdout",
     "output_type": "stream",
     "text": [
      " A Study in Scarlet\n",
      " The Adventures of Sherlock Holmes\n",
      " The Case-Book of Sherlock Holmes\n",
      " The Sign of the Four\n",
      " The Valley of Fear\n",
      " His Last Bow\n",
      " The Hound of the Baskervilles\n",
      " The Memoirs of Sherlock Holmes\n",
      " The Return of Sherlock Holmes\n"
     ]
    }
   ],
   "source": [
    "for book1 in book_categories_u:\n",
    "    book1 = book1.text.replace('Category:Characters:' , '')\n",
    "    print(book1)"
   ]
  },
  {
   "cell_type": "code",
   "execution_count": 34,
   "id": "207121ee-99c5-4807-a82f-cbf0cd3e951a",
   "metadata": {
    "tags": []
   },
   "outputs": [],
   "source": [
    "books = []\n",
    "\n",
    "for category in book_categories_u:\n",
    "    book_url = category.get_attribute('href')\n",
    "    book_name = category.text.replace('Category:Characters:' , \"\") \n",
    "    books.append({'book_name' : book_name, 'url': book_url})"
   ]
  },
  {
   "cell_type": "code",
   "execution_count": 35,
   "id": "a8a20043-f5e3-4b94-bba3-dcc8a2bfa893",
   "metadata": {
    "tags": []
   },
   "outputs": [
    {
     "data": {
      "text/plain": [
       "[{'book_name': ' A Study in Scarlet',\n",
       "  'url': 'https://bakerstreet.fandom.com/wiki/Category:Characters:_A_Study_in_Scarlet'},\n",
       " {'book_name': ' The Adventures of Sherlock Holmes',\n",
       "  'url': 'https://bakerstreet.fandom.com/wiki/Category:Characters:_The_Adventures_of_Sherlock_Holmes'},\n",
       " {'book_name': ' The Case-Book of Sherlock Holmes',\n",
       "  'url': 'https://bakerstreet.fandom.com/wiki/Category:Characters:_The_Case-Book_of_Sherlock_Holmes'},\n",
       " {'book_name': ' The Sign of the Four',\n",
       "  'url': 'https://bakerstreet.fandom.com/wiki/Category:Characters:_The_Sign_of_the_Four'},\n",
       " {'book_name': ' The Valley of Fear',\n",
       "  'url': 'https://bakerstreet.fandom.com/wiki/Category:Characters:_The_Valley_of_Fear'},\n",
       " {'book_name': ' His Last Bow',\n",
       "  'url': 'https://bakerstreet.fandom.com/wiki/Category:Characters:_His_Last_Bow'},\n",
       " {'book_name': ' The Hound of the Baskervilles',\n",
       "  'url': 'https://bakerstreet.fandom.com/wiki/Category:Characters:_The_Hound_of_the_Baskervilles'},\n",
       " {'book_name': ' The Memoirs of Sherlock Holmes',\n",
       "  'url': 'https://bakerstreet.fandom.com/wiki/Category:Characters:_The_Memoirs_of_Sherlock_Holmes'},\n",
       " {'book_name': ' The Return of Sherlock Holmes',\n",
       "  'url': 'https://bakerstreet.fandom.com/wiki/Category:Characters:_The_Return_of_Sherlock_Holmes'}]"
      ]
     },
     "execution_count": 35,
     "metadata": {},
     "output_type": "execute_result"
    }
   ],
   "source": [
    "books"
   ]
  },
  {
   "cell_type": "code",
   "execution_count": 36,
   "id": "670c87bf-df93-4d47-94f4-c0d624cbf949",
   "metadata": {
    "tags": []
   },
   "outputs": [],
   "source": [
    "character_list = []\n",
    "for book in books:\n",
    "    # go to the book page \n",
    "    driver.get(book['url'])\n",
    "    \n",
    "    character_elems = driver.find_elements(By.CLASS_NAME, \"category-page__member-link\")\n",
    "    \n",
    "    for elems in character_elems:\n",
    "        character_list.append({'book' : book['book_name'], 'character': elems.text})\n",
    "        \n",
    "    character_list.append({'book' : book['book_name'], 'character': 'Sherlock Holmes'})\n",
    "    character_list.append({'book' : book['book_name'], 'character': 'John Waston'})\n",
    "    \n",
    "    "
   ]
  },
  {
   "cell_type": "code",
   "execution_count": 37,
   "id": "ee89e5ea-952d-4fa9-a9d8-b5ac3ed9746c",
   "metadata": {
    "tags": []
   },
   "outputs": [
    {
     "data": {
      "text/html": [
       "<div>\n",
       "<style scoped>\n",
       "    .dataframe tbody tr th:only-of-type {\n",
       "        vertical-align: middle;\n",
       "    }\n",
       "\n",
       "    .dataframe tbody tr th {\n",
       "        vertical-align: top;\n",
       "    }\n",
       "\n",
       "    .dataframe thead th {\n",
       "        text-align: right;\n",
       "    }\n",
       "</style>\n",
       "<table border=\"1\" class=\"dataframe\">\n",
       "  <thead>\n",
       "    <tr style=\"text-align: right;\">\n",
       "      <th></th>\n",
       "      <th>book</th>\n",
       "      <th>character</th>\n",
       "    </tr>\n",
       "  </thead>\n",
       "  <tbody>\n",
       "    <tr>\n",
       "      <th>0</th>\n",
       "      <td>A Study in Scarlet</td>\n",
       "      <td>Enoch Drebber</td>\n",
       "    </tr>\n",
       "    <tr>\n",
       "      <th>1</th>\n",
       "      <td>A Study in Scarlet</td>\n",
       "      <td>John Ferrier</td>\n",
       "    </tr>\n",
       "    <tr>\n",
       "      <th>2</th>\n",
       "      <td>A Study in Scarlet</td>\n",
       "      <td>Lucy Ferrier</td>\n",
       "    </tr>\n",
       "    <tr>\n",
       "      <th>3</th>\n",
       "      <td>A Study in Scarlet</td>\n",
       "      <td>Jefferson Hope</td>\n",
       "    </tr>\n",
       "    <tr>\n",
       "      <th>4</th>\n",
       "      <td>A Study in Scarlet</td>\n",
       "      <td>Edgar Allan Poe</td>\n",
       "    </tr>\n",
       "    <tr>\n",
       "      <th>5</th>\n",
       "      <td>A Study in Scarlet</td>\n",
       "      <td>Joseph Stangerson</td>\n",
       "    </tr>\n",
       "    <tr>\n",
       "      <th>6</th>\n",
       "      <td>A Study in Scarlet</td>\n",
       "      <td>Brigham Young</td>\n",
       "    </tr>\n",
       "    <tr>\n",
       "      <th>7</th>\n",
       "      <td>A Study in Scarlet</td>\n",
       "      <td>Sherlock Holmes</td>\n",
       "    </tr>\n",
       "    <tr>\n",
       "      <th>8</th>\n",
       "      <td>A Study in Scarlet</td>\n",
       "      <td>John Waston</td>\n",
       "    </tr>\n",
       "    <tr>\n",
       "      <th>9</th>\n",
       "      <td>The Adventures of Sherlock Holmes</td>\n",
       "      <td>Irene Adler</td>\n",
       "    </tr>\n",
       "    <tr>\n",
       "      <th>10</th>\n",
       "      <td>The Adventures of Sherlock Holmes</td>\n",
       "      <td>Lord Backwater</td>\n",
       "    </tr>\n",
       "    <tr>\n",
       "      <th>11</th>\n",
       "      <td>The Adventures of Sherlock Holmes</td>\n",
       "      <td>Duke of Balmoral</td>\n",
       "    </tr>\n",
       "    <tr>\n",
       "      <th>12</th>\n",
       "      <td>The Adventures of Sherlock Holmes</td>\n",
       "      <td>George Burnwell</td>\n",
       "    </tr>\n",
       "    <tr>\n",
       "      <th>13</th>\n",
       "      <td>The Adventures of Sherlock Holmes</td>\n",
       "      <td>James Calhoun</td>\n",
       "    </tr>\n",
       "    <tr>\n",
       "      <th>14</th>\n",
       "      <td>The Adventures of Sherlock Holmes</td>\n",
       "      <td>John Clay</td>\n",
       "    </tr>\n",
       "    <tr>\n",
       "      <th>15</th>\n",
       "      <td>The Adventures of Sherlock Holmes</td>\n",
       "      <td>Aloysius Doran</td>\n",
       "    </tr>\n",
       "    <tr>\n",
       "      <th>16</th>\n",
       "      <td>The Adventures of Sherlock Holmes</td>\n",
       "      <td>Hatty Doran</td>\n",
       "    </tr>\n",
       "    <tr>\n",
       "      <th>17</th>\n",
       "      <td>The Adventures of Sherlock Holmes</td>\n",
       "      <td>Mr Fowler</td>\n",
       "    </tr>\n",
       "    <tr>\n",
       "      <th>18</th>\n",
       "      <td>The Adventures of Sherlock Holmes</td>\n",
       "      <td>Violet Hunter</td>\n",
       "    </tr>\n",
       "    <tr>\n",
       "      <th>19</th>\n",
       "      <td>The Adventures of Sherlock Holmes</td>\n",
       "      <td>Ku Klux Klan</td>\n",
       "    </tr>\n",
       "  </tbody>\n",
       "</table>\n",
       "</div>"
      ],
      "text/plain": [
       "                                  book          character\n",
       "0                   A Study in Scarlet      Enoch Drebber\n",
       "1                   A Study in Scarlet       John Ferrier\n",
       "2                   A Study in Scarlet       Lucy Ferrier\n",
       "3                   A Study in Scarlet     Jefferson Hope\n",
       "4                   A Study in Scarlet    Edgar Allan Poe\n",
       "5                   A Study in Scarlet  Joseph Stangerson\n",
       "6                   A Study in Scarlet      Brigham Young\n",
       "7                   A Study in Scarlet    Sherlock Holmes\n",
       "8                   A Study in Scarlet        John Waston\n",
       "9    The Adventures of Sherlock Holmes        Irene Adler\n",
       "10   The Adventures of Sherlock Holmes     Lord Backwater\n",
       "11   The Adventures of Sherlock Holmes   Duke of Balmoral\n",
       "12   The Adventures of Sherlock Holmes    George Burnwell\n",
       "13   The Adventures of Sherlock Holmes      James Calhoun\n",
       "14   The Adventures of Sherlock Holmes          John Clay\n",
       "15   The Adventures of Sherlock Holmes     Aloysius Doran\n",
       "16   The Adventures of Sherlock Holmes        Hatty Doran\n",
       "17   The Adventures of Sherlock Holmes          Mr Fowler\n",
       "18   The Adventures of Sherlock Holmes      Violet Hunter\n",
       "19   The Adventures of Sherlock Holmes       Ku Klux Klan"
      ]
     },
     "execution_count": 37,
     "metadata": {},
     "output_type": "execute_result"
    }
   ],
   "source": [
    "character_df = pd.DataFrame( character_list)\n",
    "character_df.head(20)"
   ]
  },
  {
   "cell_type": "code",
   "execution_count": 38,
   "id": "4ea976fa-e6ce-4ac0-bc04-5e1a19ad58b2",
   "metadata": {
    "tags": []
   },
   "outputs": [],
   "source": [
    "character_df.to_csv('characters.csv')"
   ]
  },
  {
   "cell_type": "code",
   "execution_count": null,
   "id": "fcc5b187-8bd9-4f8e-8441-c0e4ddb5ba57",
   "metadata": {},
   "outputs": [],
   "source": []
  },
  {
   "cell_type": "code",
   "execution_count": null,
   "id": "255a9f71-7032-46c2-9860-a094230c5360",
   "metadata": {},
   "outputs": [],
   "source": []
  }
 ],
 "metadata": {
  "kernelspec": {
   "display_name": "Python 3 (ipykernel)",
   "language": "python",
   "name": "python3"
  },
  "language_info": {
   "codemirror_mode": {
    "name": "ipython",
    "version": 3
   },
   "file_extension": ".py",
   "mimetype": "text/x-python",
   "name": "python",
   "nbconvert_exporter": "python",
   "pygments_lexer": "ipython3",
   "version": "3.11.2"
  }
 },
 "nbformat": 4,
 "nbformat_minor": 5
}
